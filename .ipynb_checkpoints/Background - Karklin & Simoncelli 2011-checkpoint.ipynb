{
 "cells": [
  {
   "cell_type": "markdown",
   "metadata": {},
   "source": [
    "## Efficient coding of natural images with a population of noisy Linear-Nonlinear neurons\n",
    "\n",
    "The following is an implementation of Karklin & Simoncelli's 2011 paper, with a model of the visual system maximizing mutual information, minimizing spiking with natural images as input. It is implemented in Tensorflow."
   ]
  },
  {
   "cell_type": "markdown",
   "metadata": {},
   "source": [
    "### Model:\n",
    "![fig1](./img/fig1a.png)\n",
    "\n",
    "\n",
    "### Response Function:\n",
    "$$ r_j = f_j(y_j)+n_r $$  \n",
    "\n",
    "$$ y_j = \\textbf{w}_j^T(x+n_x) $$\n",
    "\n",
    "Add indepenent (for now - Pratik will explore non iid) noise in our response, also add noise in our input image, before calcuating non-linear function.\n",
    "\n",
    "### Objective Function:\n",
    "$$ I(X;R) - \\sum_j \\lambda_j \\langle r_j \\rangle $$  \n",
    "\n",
    "Maximize mutual information between image and response, minimizing spiking rate of all neurons. $\\lambda$ as the tradeoff between the two."
   ]
  },
  {
   "cell_type": "code",
   "execution_count": 13,
   "metadata": {
    "collapsed": false
   },
   "outputs": [
    {
     "name": "stderr",
     "output_type": "stream",
     "text": [
      "Exception ignored in: <bound method InteractiveSession.__del__ of <tensorflow.python.client.session.InteractiveSession object at 0x110b2cd68>>\n",
      "Traceback (most recent call last):\n",
      "  File \"/Users/dda/anaconda/envs/tensorflow/lib/python3.4/site-packages/tensorflow/python/client/session.py\", line 140, in __del__\n",
      "    self.close()\n",
      "  File \"/Users/dda/anaconda/envs/tensorflow/lib/python3.4/site-packages/tensorflow/python/client/session.py\", line 905, in close\n",
      "    self._default_session.__exit__(None, None, None)\n",
      "  File \"/Users/dda/anaconda/envs/tensorflow/lib/python3.4/contextlib.py\", line 66, in __exit__\n",
      "    next(self.gen)\n",
      "  File \"/Users/dda/anaconda/envs/tensorflow/lib/python3.4/site-packages/tensorflow/python/framework/ops.py\", line 3215, in get_controller\n",
      "    assert self.stack[-1] is default\n",
      "AssertionError: \n"
     ]
    }
   ],
   "source": [
    "#dependencies\n",
    "\n",
    "import h5py\n",
    "import numpy as np\n",
    "import matplotlib.pyplot as plt\n",
    "import tensorflow as tf\n",
    "sess = tf.InteractiveSession()\n",
    "\n",
    "%matplotlib inline"
   ]
  },
  {
   "cell_type": "code",
   "execution_count": 12,
   "metadata": {
    "collapsed": false
   },
   "outputs": [],
   "source": [
    "def extract_images(filename):\n",
    "    #function from Dylan\n",
    "    with h5py.File(filename, \"r\") as f:\n",
    "        full_img_data = np.array(f['van_hateren_good'], dtype=np.float32)\n",
    "    return full_img_data\n",
    "\n",
    "class vanHateren:\n",
    "    def __init__(self,\n",
    "                 img_dir,\n",
    "                 patch_edge_size=None,\n",
    "                 normalize=False,\n",
    "                 rand_state=np.random.RandomState()):\n",
    "        self.images = self.extract_images(img_dir, patch_edge_size, normalize)\n",
    "\n",
    "    \"\"\"\n",
    "    adapted from Dylan Payton's code for Sparse coding here: https://github.com/dpaiton/FeedbackLCA/blob/master/data/input_data.py\n",
    "    load in van hateren dataset\n",
    "    if patch_edge_size is specified, rebuild data array to be of sequential image\n",
    "    patches.\n",
    "    if preprocess is true, subtract mean from each full-size image, and rescale image variance to 1\n",
    "    Note: in K&S2011, methods report input images' piel values were 'linear with respect to light intensity'\n",
    "    I'm not sure if this is true for the VH images we are using, and how to properly normalize for this if not.\n",
    "    \"\"\"\n",
    "\n",
    "    def extract_images(self, filename, patch_edge_size=None, normalize=False):\n",
    "        with h5py.File(filename, \"r\") as f:\n",
    "            full_img_data = np.array(f['van_hateren_good'], dtype=np.float32)\n",
    "            if(normalize):\n",
    "                print('normalizing...')\n",
    "                full_img_data = full_img_data - np.mean(full_img_data,axis=(1,2),keepdims=True)\n",
    "                full_img_data = full_img_data/np.std(full_img_data,axis=(1,2),keepdims=True)\n",
    "            if patch_edge_size is not None:\n",
    "                print('sectioning into patches....')\n",
    "                (num_img, num_px_rows, num_px_cols) = full_img_data.shape\n",
    "                num_img_px = num_px_rows * num_px_cols\n",
    "                assert np.sqrt(num_img_px) % patch_edge_size == 0, (\"The number of image edge pixels % the patch edge size must be 0.\")\n",
    "                self.num_patches = int(num_img_px / patch_edge_size**2)\n",
    "                full_img_data = np.reshape(full_img_data, (num_img, num_img_px))\n",
    "                data = np.vstack([full_img_data[idx,...].reshape(self.num_patches, patch_edge_size, patch_edge_size) for idx in range(num_img)])\n",
    "            else:\n",
    "                data = full_img_data\n",
    "                self.num_patches = 0\n",
    "            return data\n"
   ]
  },
  {
   "cell_type": "code",
   "execution_count": 1,
   "metadata": {
    "collapsed": false
   },
   "outputs": [],
   "source": [
    "# Model Parameters\n",
    "nneurons = 100\n",
    "patchsize = 16\n",
    "\n",
    "\n",
    "#noise - these Prateek is interested in changing to removed iid asumption\n",
    "noisexsigma = 0.4\n",
    "noisersigma = 2\n",
    "\n",
    "lambdaj = 0.1 #this is adjusted in order to get ravg = 1\n",
    "ravg = 1\n",
    "\n",
    "batchsize = 100\n",
    "iterations = 1e6"
   ]
  },
  {
   "cell_type": "code",
   "execution_count": 115,
   "metadata": {
    "collapsed": false
   },
   "outputs": [
    {
     "name": "stdout",
     "output_type": "stream",
     "text": [
      "normalizing...\n",
      "sectioning into patches....\n"
     ]
    }
   ],
   "source": [
    "#full images\n",
    "#vhims = extract_images('../vanHaterenNaturalImages/VanHaterenNaturalImagesCurated.h5')\n",
    "\n",
    "#image patches (as in Karklin& Simoncelli)\n",
    "vhims = vanHateren(\n",
    "    img_dir='../vanHaterenNaturalImages/VanHaterenNaturalImagesCurated.h5',\n",
    "    normalize = True,\n",
    "    patch_edge_size=patchsize\n",
    "    )\n"
   ]
  },
  {
   "cell_type": "code",
   "execution_count": 138,
   "metadata": {
    "collapsed": false
   },
   "outputs": [
    {
     "data": {
      "text/plain": [
       "<matplotlib.image.AxesImage at 0x124476a20>"
      ]
     },
     "execution_count": 138,
     "metadata": {},
     "output_type": "execute_result"
    },
    {
     "data": {
      "image/png": "[encoded data removed]",
      "text/plain": [
       "<matplotlib.figure.Figure at 0x1243ad630>"
      ]
     },
     "metadata": {},
     "output_type": "display_data"
    }
   ],
   "source": [
    "#example image\n",
    "plt.imshow(vhims.images[400,:,:],cmap='gray', interpolation='None')"
   ]
  },
  {
   "cell_type": "code",
   "execution_count": 10,
   "metadata": {
    "collapsed": false
   },
   "outputs": [
    {
     "ename": "SyntaxError",
     "evalue": "invalid syntax (<ipython-input-10-9c6c557f4d6f>, line 25)",
     "output_type": "error",
     "traceback": [
      "\u001b[0;36m  File \u001b[0;32m\"<ipython-input-10-9c6c557f4d6f>\"\u001b[0;36m, line \u001b[0;32m25\u001b[0m\n\u001b[0;31m    cx = x.T @ x\u001b[0m\n\u001b[0m             ^\u001b[0m\n\u001b[0;31mSyntaxError\u001b[0m\u001b[0;31m:\u001b[0m invalid syntax\n"
     ]
    }
   ],
   "source": [
    "#inputs & outputs\n",
    "x = tf.placeholder(tf.float32, shape=[None, patchsize**2])\n",
    "\n",
    "#weights and reul\n",
    "W = tf.Variable(tf.zeros([patchsize**2,nneurons]))\n",
    "reluslope = tf.Variable(tf.zeros([nneurons]))\n",
    "reluoff = tf.Variable(tf.zeros([nneurons]))\n",
    "\n",
    "#b = tf.Variable(tf.zeros([nneurons]))\n",
    "\n",
    "#initialize vairaibles\n",
    "#sess.run(tf.initialize_all_variables())\n",
    "\n",
    "noisex = np.random.normal(loc=0, scale=noisexsigma**2, size=patchsize**2)\n",
    "noiser = np.random.normal(loc=0, scale=noisersigma**2, size=nneurons)\n",
    "\n",
    "# y = weights * (x + noise_x)\n",
    "# r = reluslope * sigmoid(y+reluoff)  + noise_r\n",
    "\n",
    "y = tf.matmul(tf.add(x,noisex),W)\n",
    "r = tf.add(reluslope*tf.nn.relu(y + reluoff), noiser)\n",
    "\n",
    "#objective (maximize): I(X,R)-sum_j(lambda*<r_j>)\n",
    "G = np.diag(alpha*(y > reluoff))\n",
    "cx = x.T @ x\n",
    "cnr = noiser.T @ noiser\n",
    "cnx = noisex.T @ noisex\n",
    "\n",
    "#crx = G @ W.T @ np.cov(noisex) @ W @ G+ np.cov(noiser)\n",
    "cxr = numpy.linalg.inv(cx) + W @ G * np.linalg.inv(G @ W.T @ cnx @ W @ G + cnr)@ G @ W.T\n",
    "information = mean(0.5*2 np.ln(2*np.pi*e*np.det(cxr)))\n",
    "objective =  information - sum(r)/nneurons\n",
    "\n",
    "optimizer = tf.train.GradientDescentOptimizer(0.5)\n",
    "train = optimizer.minimize(-1*objective)\n"
   ]
  },
  {
   "cell_type": "code",
   "execution_count": 8,
   "metadata": {
    "collapsed": false
   },
   "outputs": [
    {
     "name": "stdout",
     "output_type": "stream",
     "text": [
      "(100, 100)\n",
      "(100,)\n",
      "[[-1.62705879  0.          0.         ...,  0.          0.          0.        ]\n",
      " [ 0.         -0.56170972  0.         ...,  0.          0.          0.        ]\n",
      " [ 0.          0.          0.45269314 ...,  0.          0.          0.        ]\n",
      " ..., \n",
      " [ 0.          0.          0.         ..., -0.03584857  0.          0.        ]\n",
      " [ 0.          0.          0.         ...,  0.          0.19402789  0.        ]\n",
      " [ 0.          0.          0.         ...,  0.          0.         -0.0539332 ]]\n"
     ]
    }
   ],
   "source": [
    "G = np.identity(nneurons)\n",
    "R = np.random.randn(nneurons)\n",
    "print(np.shape(G))\n",
    "print(np.shape(R))\n",
    "print(np.diag(R))"
   ]
  },
  {
   "cell_type": "code",
   "execution_count": null,
   "metadata": {
    "collapsed": true
   },
   "outputs": [],
   "source": [
    "init = tf.initialize_all_variables()\n",
    " \n",
    "sess = tf.Session()\n",
    "sess.run(init)"
   ]
  }
 ],
 "metadata": {
  "anaconda-cloud": {},
  "kernelspec": {
   "display_name": "Python [conda env:tensorflow]",
   "language": "python",
   "name": "conda-env-tensorflow-py"
  },
  "language_info": {
   "codemirror_mode": {
    "name": "ipython",
    "version": 3
   },
   "file_extension": ".py",
   "mimetype": "text/x-python",
   "name": "python",
   "nbconvert_exporter": "python",
   "pygments_lexer": "ipython3",
   "version": "3.4.5"
  }
 },
 "nbformat": 4,
 "nbformat_minor": 0
}
