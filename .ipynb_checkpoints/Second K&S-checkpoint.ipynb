{
 "cells": [
  {
   "cell_type": "code",
   "execution_count": 1,
   "metadata": {
    "collapsed": true
   },
   "outputs": [],
   "source": [
    "import tensorflow as tf\n",
    "import numpy as np\n",
    "import matplotlib.pyplot as plt\n",
    "%matplotlib inline"
   ]
  },
  {
   "cell_type": "code",
   "execution_count": 2,
   "metadata": {
    "collapsed": true
   },
   "outputs": [],
   "source": [
    "# Model Parameters\n",
    "nneurons = 100\n",
    "patchsize = 16\n",
    "\n",
    "#noise - these Prateek is interested in changing to removed iid asumption\n",
    "noisexsigma = 0.4\n",
    "noisersigma = 2\n",
    "\n",
    "lambdaj = 0.01 #this is adjusted in order to get ravg = 1\n",
    "ravg = 1\n",
    "\n",
    "batchsize = 100\n",
    "iterations = 1e6"
   ]
  },
  {
   "cell_type": "code",
   "execution_count": 22,
   "metadata": {
    "collapsed": false,
    "scrolled": false
   },
   "outputs": [
    {
     "name": "stdout",
     "output_type": "stream",
     "text": [
      "Cost 0 -6.13553\n",
      "Cost 1 -6.13553\n",
      "Cost 2 -6.13553\n",
      "Cost 3 -6.13553\n",
      "Cost 4 -6.13553\n",
      "Cost 5 -6.13553\n",
      "Cost 6 -6.13553\n",
      "Cost 7 -6.13553\n",
      "Cost 8 -6.13553\n",
      "Cost 9 -6.13553\n",
      "Cost 10 -6.13553\n",
      "Cost 11 -6.13553\n",
      "Cost 12 -6.13553\n",
      "Cost 13 -6.13553\n",
      "Cost 14 -6.13553\n",
      "Cost 15 -6.13553\n",
      "Cost 16 -6.13553\n",
      "Cost 17 -6.13553\n",
      "Cost 18 -6.13553\n",
      "Cost 19 -6.13553\n",
      "Cost 20 -6.13553\n",
      "Cost 21 -6.13553\n",
      "Cost 22 -6.13553\n",
      "Cost 23 -6.13553\n",
      "Cost 24 -6.13553\n",
      "Cost 25 -6.13553\n",
      "Cost 26 -6.13553\n",
      "Cost 27 -6.13553\n",
      "Cost 28 -6.13553\n",
      "Cost 29 -6.13553\n"
     ]
    },
    {
     "data": {
      "text/plain": [
       "[<matplotlib.lines.Line2D at 0x119e568d0>]"
      ]
     },
     "execution_count": 22,
     "metadata": {},
     "output_type": "execute_result"
    },
    {
     "data": {
      "image/png": "[encoded data removed]",
      "text/plain": [
       "<matplotlib.figure.Figure at 0x116694b38>"
      ]
     },
     "metadata": {},
     "output_type": "display_data"
    }
   ],
   "source": [
    "#input image\n",
    "x = tf.placeholder(tf.float32, shape=(patchsize**2,1),name='input_image')\n",
    "#noise\n",
    "nx = tf.placeholder(tf.float32, shape=(patchsize**2,1),name='input_noise')\n",
    "nr = tf.placeholder(tf.float32, shape=(nneurons,1),name='response_noise')\n",
    "\n",
    "#weights\n",
    "w = tf.Variable(tf.random_normal(shape=(patchsize**2,nneurons),stddev=1),name='weights')\n",
    "#relu params\n",
    "reluslope = tf.Variable(tf.random_normal((nneurons,1),stddev=1),name='relu_slope')\n",
    "reluoff = tf.Variable(tf.random_normal((nneurons,1),stddev=1),name='relu_offset')\n",
    "\n",
    "#calculate response\n",
    "y = tf.transpose(tf.matmul(tf.transpose(x + nx),w))\n",
    "r = tf.add(reluslope * tf.nn.relu(y + reluoff), nr)\n",
    "\n",
    "#objective function: maximize I(X,R)-sum_j(lambda*<r_j>)\n",
    "mask = tf.cast(tf.less(tf.zeros((nneurons,1))+reluoff,y),tf.float32)\n",
    "g = tf.diag(tf.reshape(tf.multiply(reluslope,mask),[100]))\n",
    "#print(reluoff.get_shape())\n",
    "#print(y.get_shape())\n",
    "#print(mask.get_shape())\n",
    "#print(tf.multiply(reluslope,mask).get_shape())\n",
    "\n",
    "cx = tf.matmul(tf.transpose(x), x)\n",
    "cnr = tf.matmul(nr,tf.transpose(nr))\n",
    "cnx = tf.matmul(nx,tf.transpose(nx))\n",
    "\n",
    "cxr = tf.matrix_inverse(tf.matrix_inverse(cx) + #with inverse calculated by Shariq\n",
    "#cxr =  1 * (tf.matrix_inverse(cx) + #as in paper\n",
    "                        tf.matmul(w, \n",
    "                        tf.matmul(g, \n",
    "                        tf.matmul(tf.matrix_inverse(\n",
    "                        tf.matmul(g,\n",
    "                        tf.matmul(tf.transpose(w), \n",
    "                        tf.matmul(cnx, \n",
    "                        tf.matmul(w, g)))) + cnr),\n",
    "                        tf.matmul(g, tf.transpose(w))))))\n",
    "\n",
    "\n",
    "information = tf.reduce_mean(0.5*tf.log(2*np.pi*np.exp(1)*(tf.matrix_determinant(cxr)+0.01)))\n",
    "objective =  information - tf.reduce_sum(lambdaj * tf.reduce_mean(r,1))#/nneurons\n",
    "\n",
    "train_step = tf.train.GradientDescentOptimizer(0.001).minimize(-objective)\n",
    "\n",
    "#run it!\n",
    "with tf.Session() as sess:\n",
    "    #initialize vars\n",
    "    init = tf.global_variables_initializer()\n",
    "    sess.run(init)\n",
    "    objectives = []\n",
    "    image = np.random.rand(patchsize**2,1).astype(np.float32)\n",
    "    noise_input = np.random.rand(patchsize**2,1).astype(np.float32)\n",
    "    noise_response = np.random.rand(nneurons,1).astype(np.float32)\n",
    "    for ii in range(30):\n",
    "        #image = np.random.rand(patchsize**2,1).astype(np.float32)\n",
    "\n",
    "        #train_step.run(feed_dict={x:image, nx: noise_input, nr:noise_response})\n",
    "        #sess.run(train_step, feed_dict={x:image, nx: noise_input, nr:noise_response})\n",
    "        cost = sess.run(cxr, feed_dict={x:image, nx: noise_input, nr:noise_response})\n",
    "        objectives.append(cost)\n",
    "        print (\"Cost\", ii,  cost)\n",
    "        #objectives.append(objective.eval())\n",
    "    #print statements\n",
    "    #myweights = w.eval()\n",
    "    #print(myweights)\n",
    "    #myrlus = reluslope.eval()\n",
    "    #print(myrlus)\n",
    "    #myrluof = reluoff.eval()\n",
    "    #print(myrluof)\n",
    "    #myrs = r.eval()\n",
    "    #print(myrs)\n",
    "    #myobjective = objective.eval()\n",
    "    #print(myobjective)\n",
    "    \n",
    "plt.plot(objectives)\n"
   ]
  },
  {
   "cell_type": "code",
   "execution_count": null,
   "metadata": {
    "collapsed": true
   },
   "outputs": [],
   "source": []
  },
  {
   "cell_type": "code",
   "execution_count": null,
   "metadata": {
    "collapsed": true
   },
   "outputs": [],
   "source": []
  }
 ],
 "metadata": {
  "anaconda-cloud": {},
  "kernelspec": {
   "display_name": "Python [conda env:tensorflow]",
   "language": "python",
   "name": "conda-env-tensorflow-py"
  },
  "language_info": {
   "codemirror_mode": {
    "name": "ipython",
    "version": 3
   },
   "file_extension": ".py",
   "mimetype": "text/x-python",
   "name": "python",
   "nbconvert_exporter": "python",
   "pygments_lexer": "ipython3",
   "version": "3.4.5"
  }
 },
 "nbformat": 4,
 "nbformat_minor": 1
}
